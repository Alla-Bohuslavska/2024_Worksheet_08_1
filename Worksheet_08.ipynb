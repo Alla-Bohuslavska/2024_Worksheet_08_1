{
 "cells": [
  {
   "cell_type": "markdown",
   "id": "a6600f5b-78b9-4b16-9608-4149a81d64cf",
   "metadata": {},
   "source": [
    "## Statistics 2780A - Statistical Inference ##\n",
    "## Fall 2024 #\n",
    "## Tutorial 8 #\n",
    "October 30, 2024"
   ]
  },
  {
   "cell_type": "markdown",
   "id": "5756c655-8d5f-4bee-b0eb-6b304df7ac99",
   "metadata": {},
   "source": [
    "1. The dataset $\\texttt{Loblolly}$ in $\\texttt{datasets}$ contains data about the growth of Loblolly pine trees. We are interested in the proportion of trees with height larger or equal to 40 ft. Given a sample of 84 trees, we define a new sample $x_1,\\ldots, x_{84}$, where $x_i=1$, if the i-th tree has a height larger or equal to 40ft, using the R commands:   \n",
    "   `n <- 84`         \n",
    "    `x <- rep(1,n)`         \n",
    "    `x[Loblolly$height>40] <- 0`      \n",
    "Test at 10% level, if the proportion of trees with height larger or equal to 40 ft is significantly larger than 50%. Compute the p-value of the test. "
   ]
  },
  {
   "cell_type": "code",
   "execution_count": null,
   "id": "db01016b-0e17-4839-8e6d-00f5bb8a6fec",
   "metadata": {},
   "outputs": [],
   "source": [
    "# answer"
   ]
  },
  {
   "cell_type": "markdown",
   "id": "ba3e433a-2536-40d9-ba7d-49e54fd23b0d",
   "metadata": {},
   "source": [
    "2. The dataset $\\texttt{pressure}$ in $\\texttt{datasets}$ contains data on the relation between the temperature in degrees Celsius (regressor $x$) and vapor pressure of mercury in millimetres (response $y$). Assume a linear regression between the pressure of mercury ($y$) and the temperature ($x$).\n",
    "    1. Test at 5% level if the slope is significantly different from 0. Compute the p-value of the test.\n",
    "    2. Plot the scatterplot between $x$ and $y$. What do you observe? Comment on your findings. \n"
   ]
  },
  {
   "cell_type": "code",
   "execution_count": null,
   "id": "4a99c99a-9563-4781-8009-22207b092d1a",
   "metadata": {},
   "outputs": [],
   "source": [
    "# answer"
   ]
  },
  {
   "cell_type": "code",
   "execution_count": null,
   "id": "0b0f93c9-9e17-4818-8b8a-b11796a12177",
   "metadata": {},
   "outputs": [],
   "source": [
    "3. The dataset $\\texttt{Puromycin}$ in $\\texttt{datasets}$ contains data on the reaction velocity versus substrate concentration in an enzymatic reaction involving untreated cells or cells treated with Puromycin. We focus on the concentrations in the treated group and untreated group:   \n",
    "   `x <- Puromycin$conc[Puromycin$state==\"treated\"]`\n",
    "   `y <- Puromycin$conc[Puromycin$state==\"untreated\"]`\n",
    "   Assuming normal population, perform a two-sample t-test at 5% level to detect a significant difference between the means of the two groups, if:\n",
    "   1. The variance is constant in each group.\n",
    "   2. The variance is different for each group."
   ]
  },
  {
   "cell_type": "code",
   "execution_count": null,
   "id": "2e715ccf-36e4-417a-9705-3639fcddef98",
   "metadata": {},
   "outputs": [],
   "source": [
    "# answer"
   ]
  }
 ],
 "metadata": {
  "kernelspec": {
   "display_name": "R",
   "language": "R",
   "name": "ir"
  },
  "language_info": {
   "codemirror_mode": "r",
   "file_extension": ".r",
   "mimetype": "text/x-r-source",
   "name": "R",
   "pygments_lexer": "r",
   "version": "4.3.3"
  }
 },
 "nbformat": 4,
 "nbformat_minor": 5
}
